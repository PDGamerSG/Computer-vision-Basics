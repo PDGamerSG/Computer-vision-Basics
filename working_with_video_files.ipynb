{
 "cells": [
  {
   "cell_type": "code",
   "execution_count": 4,
   "id": "f0e82c83",
   "metadata": {},
   "outputs": [],
   "source": [
    "import cv2"
   ]
  },
  {
   "cell_type": "code",
   "execution_count": 5,
   "id": "7cc4f207",
   "metadata": {},
   "outputs": [],
   "source": [
    "#Load the video\n",
    "video = cv2.VideoCapture(\"./mountain.mp4\")"
   ]
  },
  {
   "cell_type": "code",
   "execution_count": 6,
   "id": "9c3c4ac6",
   "metadata": {},
   "outputs": [],
   "source": [
    "#Display the video\n",
    "while True:\n",
    "    ret,frame = video.read() #ret will return true or false\n",
    "    if not ret:\n",
    "        break\n",
    "    cv2.imshow(\"Video Frame\",frame)\n",
    "    if cv2.waitKey(1) & 0xFF == ord('q'): #wait for 1 ms for frame\n",
    "        break #q is used to come out of the video\n",
    "video.release()\n",
    "cv2.destroyAllWindows()"
   ]
  },
  {
   "cell_type": "code",
   "execution_count": 8,
   "id": "a90ccc98",
   "metadata": {},
   "outputs": [],
   "source": [
    "#Write the video\n",
    "video = cv2.VideoCapture(\"./mountain.mp4\")\n",
    "fourcc = cv2.VideoWriter_fourcc(*\"mp4v\")\n",
    "\n",
    "width = int(video.get(cv2.CAP_PROP_FRAME_WIDTH))\n",
    "height = int(video.get(cv2.CAP_PROP_FRAME_HEIGHT))\n",
    "out = cv2.VideoWriter(\"./output.mp4\",fourcc,30,(width,height))\n",
    "\n",
    "while True:\n",
    "    ret,frame = video.read()\n",
    "    if not ret:\n",
    "        break\n",
    "    out.write(frame)\n",
    "\n",
    "out.release()\n",
    "video.release()\n",
    "cv2.destroyAllWindows()\n"
   ]
  },
  {
   "cell_type": "code",
   "execution_count": 9,
   "id": "769b966e",
   "metadata": {},
   "outputs": [],
   "source": [
    "#Write the video\n",
    "video = cv2.VideoCapture(\"./mountain.mp4\")\n",
    "fourcc = cv2.VideoWriter_fourcc(*\"mp4v\")\n",
    "\n",
    "width = int(video.get(cv2.CAP_PROP_FRAME_WIDTH))\n",
    "height = int(video.get(cv2.CAP_PROP_FRAME_HEIGHT))\n",
    "out = cv2.VideoWriter(\"./output_new.mp4\",fourcc,30,(width,height))\n",
    "\n",
    "while True:\n",
    "    ret,frame = video.read()\n",
    "    if not ret:\n",
    "        break\n",
    "    frame = frame+20\n",
    "    out.write(frame)\n",
    "\n",
    "out.release()\n",
    "video.release()\n",
    "cv2.destroyAllWindows()\n"
   ]
  },
  {
   "cell_type": "code",
   "execution_count": null,
   "id": "fb12db6b",
   "metadata": {},
   "outputs": [],
   "source": []
  }
 ],
 "metadata": {
  "kernelspec": {
   "display_name": "Python 3",
   "language": "python",
   "name": "python3"
  },
  "language_info": {
   "codemirror_mode": {
    "name": "ipython",
    "version": 3
   },
   "file_extension": ".py",
   "mimetype": "text/x-python",
   "name": "python",
   "nbconvert_exporter": "python",
   "pygments_lexer": "ipython3",
   "version": "3.12.7"
  }
 },
 "nbformat": 4,
 "nbformat_minor": 5
}
